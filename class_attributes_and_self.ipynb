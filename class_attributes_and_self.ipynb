{
  "nbformat": 4,
  "nbformat_minor": 0,
  "metadata": {
    "colab": {
      "name": "class_attributes_and_self.ipynb",
      "provenance": [],
      "authorship_tag": "ABX9TyOjUYLTLuaHos41Q/f0QIJy",
      "include_colab_link": true
    },
    "kernelspec": {
      "name": "python3",
      "display_name": "Python 3"
    }
  },
  "cells": [
    {
      "cell_type": "markdown",
      "metadata": {
        "id": "view-in-github",
        "colab_type": "text"
      },
      "source": [
        "<a href=\"https://colab.research.google.com/github/hussein-sameer/python3/blob/master/class_attributes_and_self.ipynb\" target=\"_parent\"><img src=\"https://colab.research.google.com/assets/colab-badge.svg\" alt=\"Open In Colab\"/></a>"
      ]
    },
    {
      "cell_type": "markdown",
      "metadata": {
        "id": "94fKB8k2Pup6",
        "colab_type": "text"
      },
      "source": [
        "# **ClassName.class_var VS self.class_var**\n",
        "\n",
        "There are four casses of using these inside \\_\\_init__ and class methods\n",
        "\n",
        "|Inside init | Inside class | Work?|\n",
        "|:------------------:|:--------------------:|:---:|\n",
        "|ClassName.class_var | ClassName.class_var | YES|\n",
        "|ClassName.class_var | self.class_var | YES|\n",
        "|self.class_var | self.class_var | YES|\n",
        "|self.class_var | ClassName.class_var | NO|"
      ]
    },
    {
      "cell_type": "markdown",
      "metadata": {
        "id": "0DLW50xbTY2H",
        "colab_type": "text"
      },
      "source": [
        "Examining the first case:"
      ]
    },
    {
      "cell_type": "code",
      "metadata": {
        "id": "RU2ZmdSSPjU2",
        "colab_type": "code",
        "colab": {
          "base_uri": "https://localhost:8080/",
          "height": 85
        },
        "outputId": "2bac01b8-6147-4008-dd20-cd958b347c08"
      },
      "source": [
        "class Test_class:\n",
        "    #class_var = 10\n",
        "    def __init__(self):\n",
        "        Test_class.class_var = 10\n",
        "    def method_1(self):\n",
        "        Test_class.class_var += 5\n",
        "    def method_2(self):\n",
        "        self.class_var += 5\n",
        "\n",
        "# Now instantiate two instances        \n",
        "inst_1 = Test_class() \n",
        "inst_2 = Test_class()\n",
        "\n",
        "inst_1.method_1()\n",
        "print(inst_1.class_var)\n",
        "inst_1.method_1()\n",
        "print(inst_1.class_var)\n",
        "inst_1.method_2()\n",
        "print(inst_1.class_var)\n",
        "print(Test_class.class_var)"
      ],
      "execution_count": 5,
      "outputs": [
        {
          "output_type": "stream",
          "text": [
            "15\n",
            "20\n",
            "25\n",
            "20\n"
          ],
          "name": "stdout"
        }
      ]
    },
    {
      "cell_type": "markdown",
      "metadata": {
        "id": "ZbKLTziWVojU",
        "colab_type": "text"
      },
      "source": [
        "We should note that these two are equal in this case\n",
        "\n",
        "\n",
        "\n",
        "```\n",
        "def __init__(self):\n",
        "        Test_class.class_var = 10\n",
        "```\n",
        "```\n",
        "class_var = 10\n",
        "```\n",
        "\n",
        "\n",
        "\n"
      ]
    },
    {
      "cell_type": "markdown",
      "metadata": {
        "id": "UjiEc6RaUjjj",
        "colab_type": "text"
      },
      "source": [
        "The second case is now examined:"
      ]
    },
    {
      "cell_type": "code",
      "metadata": {
        "id": "QrGBbZV0UGHg",
        "colab_type": "code",
        "colab": {
          "base_uri": "https://localhost:8080/",
          "height": 85
        },
        "outputId": "7b449c50-699d-4b39-92ad-13ddf080b77e"
      },
      "source": [
        "class Test_class:\n",
        "    #class_var = 10\n",
        "    def __init__(self):\n",
        "        Test_class.class_var = 10\n",
        "    def method_1(self):\n",
        "        Test_class.class_var += 5\n",
        "    def method_2(self):\n",
        "        self.class_var += 5\n",
        "\n",
        "\n",
        "# Now instantiate two instances        \n",
        "\n",
        "inst_1 = Test_class() \n",
        "inst_2 = Test_class()\n",
        "\n",
        "inst_2.method_2()\n",
        "print(inst_2.class_var)\n",
        "inst_2.method_2()\n",
        "print(inst_2.class_var)\n",
        "inst_1.method_2()\n",
        "print(inst_1.class_var)\n",
        "print(Test_class.class_var)"
      ],
      "execution_count": 6,
      "outputs": [
        {
          "output_type": "stream",
          "text": [
            "15\n",
            "20\n",
            "15\n",
            "10\n"
          ],
          "name": "stdout"
        }
      ]
    },
    {
      "cell_type": "markdown",
      "metadata": {
        "id": "h72F97PHUL2W",
        "colab_type": "text"
      },
      "source": [
        "The Third case is now examined:"
      ]
    },
    {
      "cell_type": "code",
      "metadata": {
        "id": "tb7noN0AUQh4",
        "colab_type": "code",
        "colab": {
          "base_uri": "https://localhost:8080/",
          "height": 68
        },
        "outputId": "4161852e-224a-49df-fb9d-3d650a3727e7"
      },
      "source": [
        "class Test_class:\n",
        "    def __init__(self):\n",
        "        self.class_var = 10\n",
        "    def method_1(self):\n",
        "        Test_class.class_var += 5\n",
        "    def method_2(self):\n",
        "        self.class_var += 5\n",
        "\n",
        "\n",
        "# Now instantiate two instances        \n",
        "\n",
        "inst_1 = Test_class() \n",
        "inst_2 = Test_class()\n",
        "\n",
        "inst_2.method_2()\n",
        "print(inst_2.class_var)\n",
        "inst_2.method_2()\n",
        "print(inst_2.class_var)\n",
        "inst_1.method_2()\n",
        "print(inst_1.class_var)"
      ],
      "execution_count": 7,
      "outputs": [
        {
          "output_type": "stream",
          "text": [
            "15\n",
            "20\n",
            "15\n"
          ],
          "name": "stdout"
        }
      ]
    },
    {
      "cell_type": "markdown",
      "metadata": {
        "id": "YmqQhUgwVDUa",
        "colab_type": "text"
      },
      "source": [
        "The final case is examined below (running the code should give an error):"
      ]
    },
    {
      "cell_type": "code",
      "metadata": {
        "id": "vZpbnD4rVOUw",
        "colab_type": "code",
        "colab": {
          "base_uri": "https://localhost:8080/",
          "height": 350
        },
        "outputId": "b3425048-af44-4e9e-ac76-d8128f984327"
      },
      "source": [
        "class Test_class:\n",
        "    def __init__(self):\n",
        "        self.class_var = 10\n",
        "    def method_1(self):\n",
        "        Test_class.class_var += 5\n",
        "    def method_2(self):\n",
        "        self.class_var += 5\n",
        "\n",
        "# Now instantiate two instances        \n",
        "\n",
        "inst_1 = Test_class() \n",
        "inst_2 = Test_class()\n",
        "\n",
        "inst_1.method_1()\n",
        "print(inst_1.class_var)\n",
        "inst_1.method_1()\n",
        "print(inst_1.class_var)\n",
        "print(Test_class.class_var)"
      ],
      "execution_count": 4,
      "outputs": [
        {
          "output_type": "error",
          "ename": "AttributeError",
          "evalue": "ignored",
          "traceback": [
            "\u001b[0;31m---------------------------------------------------------------------------\u001b[0m",
            "\u001b[0;31mAttributeError\u001b[0m                            Traceback (most recent call last)",
            "\u001b[0;32m<ipython-input-4-7a7961ac5255>\u001b[0m in \u001b[0;36m<module>\u001b[0;34m()\u001b[0m\n\u001b[1;32m     13\u001b[0m \u001b[0minst_2\u001b[0m \u001b[0;34m=\u001b[0m \u001b[0mTest_class\u001b[0m\u001b[0;34m(\u001b[0m\u001b[0;34m)\u001b[0m\u001b[0;34m\u001b[0m\u001b[0;34m\u001b[0m\u001b[0m\n\u001b[1;32m     14\u001b[0m \u001b[0;34m\u001b[0m\u001b[0m\n\u001b[0;32m---> 15\u001b[0;31m \u001b[0minst_1\u001b[0m\u001b[0;34m.\u001b[0m\u001b[0mmethod_1\u001b[0m\u001b[0;34m(\u001b[0m\u001b[0;34m)\u001b[0m\u001b[0;34m\u001b[0m\u001b[0;34m\u001b[0m\u001b[0m\n\u001b[0m\u001b[1;32m     16\u001b[0m \u001b[0mprint\u001b[0m\u001b[0;34m(\u001b[0m\u001b[0minst_1\u001b[0m\u001b[0;34m.\u001b[0m\u001b[0mclass_var\u001b[0m\u001b[0;34m)\u001b[0m\u001b[0;34m\u001b[0m\u001b[0;34m\u001b[0m\u001b[0m\n\u001b[1;32m     17\u001b[0m \u001b[0minst_1\u001b[0m\u001b[0;34m.\u001b[0m\u001b[0mmethod_1\u001b[0m\u001b[0;34m(\u001b[0m\u001b[0;34m)\u001b[0m\u001b[0;34m\u001b[0m\u001b[0;34m\u001b[0m\u001b[0m\n",
            "\u001b[0;32m<ipython-input-4-7a7961ac5255>\u001b[0m in \u001b[0;36mmethod_1\u001b[0;34m(self)\u001b[0m\n\u001b[1;32m      4\u001b[0m         \u001b[0mself\u001b[0m\u001b[0;34m.\u001b[0m\u001b[0mclass_var\u001b[0m \u001b[0;34m=\u001b[0m \u001b[0;36m10\u001b[0m\u001b[0;34m\u001b[0m\u001b[0;34m\u001b[0m\u001b[0m\n\u001b[1;32m      5\u001b[0m     \u001b[0;32mdef\u001b[0m \u001b[0mmethod_1\u001b[0m\u001b[0;34m(\u001b[0m\u001b[0mself\u001b[0m\u001b[0;34m)\u001b[0m\u001b[0;34m:\u001b[0m\u001b[0;34m\u001b[0m\u001b[0;34m\u001b[0m\u001b[0m\n\u001b[0;32m----> 6\u001b[0;31m         \u001b[0mTest_class\u001b[0m\u001b[0;34m.\u001b[0m\u001b[0mclass_var\u001b[0m \u001b[0;34m+=\u001b[0m \u001b[0;36m5\u001b[0m\u001b[0;34m\u001b[0m\u001b[0;34m\u001b[0m\u001b[0m\n\u001b[0m\u001b[1;32m      7\u001b[0m     \u001b[0;32mdef\u001b[0m \u001b[0mmethod_2\u001b[0m\u001b[0;34m(\u001b[0m\u001b[0mself\u001b[0m\u001b[0;34m)\u001b[0m\u001b[0;34m:\u001b[0m\u001b[0;34m\u001b[0m\u001b[0;34m\u001b[0m\u001b[0m\n\u001b[1;32m      8\u001b[0m         \u001b[0mself\u001b[0m\u001b[0;34m.\u001b[0m\u001b[0mclass_var\u001b[0m \u001b[0;34m+=\u001b[0m \u001b[0;36m5\u001b[0m\u001b[0;34m\u001b[0m\u001b[0;34m\u001b[0m\u001b[0m\n",
            "\u001b[0;31mAttributeError\u001b[0m: type object 'Test_class' has no attribute 'class_var'"
          ]
        }
      ]
    },
    {
      "cell_type": "markdown",
      "metadata": {
        "id": "ZidYj-P3WbzA",
        "colab_type": "text"
      },
      "source": [
        "Created by:\n",
        "\n",
        "**Hussein Sameer**\n",
        "\n",
        "9th September 2020"
      ]
    }
  ]
}